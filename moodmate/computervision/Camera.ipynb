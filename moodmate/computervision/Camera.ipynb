{
 "cells": [
  {
   "cell_type": "code",
   "execution_count": 1,
   "id": "6c641e22",
   "metadata": {},
   "outputs": [
    {
     "ename": "KeyboardInterrupt",
     "evalue": "",
     "output_type": "error",
     "traceback": [
      "\u001b[31m---------------------------------------------------------------------------\u001b[39m",
      "\u001b[31mKeyboardInterrupt\u001b[39m                         Traceback (most recent call last)",
      "\u001b[36mCell\u001b[39m\u001b[36m \u001b[39m\u001b[32mIn[1]\u001b[39m\u001b[32m, line 10\u001b[39m\n\u001b[32m      6\u001b[39m \u001b[38;5;66;03m# For IP camera (replace with your IP stream URL)\u001b[39;00m\n\u001b[32m      7\u001b[39m \u001b[38;5;66;03m# cap = cv2.VideoCapture(\"rtsp://username:password@ip:554/stream\")\u001b[39;00m\n\u001b[32m      9\u001b[39m \u001b[38;5;28;01mwhile\u001b[39;00m \u001b[38;5;28;01mTrue\u001b[39;00m:\n\u001b[32m---> \u001b[39m\u001b[32m10\u001b[39m     ret, frame = \u001b[43mcap\u001b[49m\u001b[43m.\u001b[49m\u001b[43mread\u001b[49m\u001b[43m(\u001b[49m\u001b[43m)\u001b[49m\n\u001b[32m     11\u001b[39m     \u001b[38;5;28;01mif\u001b[39;00m \u001b[38;5;129;01mnot\u001b[39;00m ret:\n\u001b[32m     12\u001b[39m         \u001b[38;5;28;01mbreak\u001b[39;00m\n",
      "\u001b[31mKeyboardInterrupt\u001b[39m: "
     ]
    }
   ],
   "source": [
    "import cv2\n",
    "\n",
    "# For USB webcam (index 0 = first camera)\n",
    "cap = cv2.VideoCapture(0)\n",
    "\n",
    "# For IP camera (replace with your IP stream URL)\n",
    "# cap = cv2.VideoCapture(\"rtsp://username:password@ip:554/stream\")\n",
    "\n",
    "while True:\n",
    "    ret, frame = cap.read()\n",
    "    if not ret:\n",
    "        break\n",
    "\n",
    "    cv2.imshow(\"Camera Stream\", frame)\n",
    "\n",
    "    if cv2.waitKey(1) & 0xFF == ord(\"q\"):\n",
    "        break\n",
    "\n",
    "cap.release()\n",
    "cv2.destroyAllWindows()"
   ]
  },
  {
   "cell_type": "code",
   "execution_count": 2,
   "id": "a12328b9",
   "metadata": {},
   "outputs": [
    {
     "ename": "KeyboardInterrupt",
     "evalue": "",
     "output_type": "error",
     "traceback": [
      "\u001b[31m---------------------------------------------------------------------------\u001b[39m",
      "\u001b[31mKeyboardInterrupt\u001b[39m                         Traceback (most recent call last)",
      "\u001b[36mCell\u001b[39m\u001b[36m \u001b[39m\u001b[32mIn[2]\u001b[39m\u001b[32m, line 11\u001b[39m\n\u001b[32m      8\u001b[39m frame_count = \u001b[32m0\u001b[39m\n\u001b[32m     10\u001b[39m \u001b[38;5;28;01mwhile\u001b[39;00m \u001b[38;5;28;01mTrue\u001b[39;00m:\n\u001b[32m---> \u001b[39m\u001b[32m11\u001b[39m     ret, frame = \u001b[43mcap\u001b[49m\u001b[43m.\u001b[49m\u001b[43mread\u001b[49m\u001b[43m(\u001b[49m\u001b[43m)\u001b[49m\n\u001b[32m     12\u001b[39m     \u001b[38;5;28;01mif\u001b[39;00m \u001b[38;5;129;01mnot\u001b[39;00m ret:\n\u001b[32m     13\u001b[39m         \u001b[38;5;28;01mbreak\u001b[39;00m\n",
      "\u001b[31mKeyboardInterrupt\u001b[39m: "
     ]
    }
   ],
   "source": [
    "import cv2\n",
    "import os\n",
    "\n",
    "cap = cv2.VideoCapture(0)\n",
    "\n",
    "# Create output folder\n",
    "os.makedirs(\"frames\", exist_ok=True)\n",
    "frame_count = 0\n",
    "\n",
    "while True:\n",
    "    ret, frame = cap.read()\n",
    "    if not ret:\n",
    "        break\n",
    "\n",
    "    # Show stream\n",
    "    cv2.imshow(\"Camera Stream\", frame)\n",
    "\n",
    "    # Save frame\n",
    "    filename = f\"frames/frame_{frame_count:06d}.jpg\"\n",
    "    cv2.imwrite(filename, frame)\n",
    "    frame_count += 1\n",
    "\n",
    "    if cv2.waitKey(1) & 0xFF == ord(\"q\"):\n",
    "        break\n",
    "\n",
    "cap.release()\n",
    "cv2.destroyAllWindows()"
   ]
  },
  {
   "cell_type": "code",
   "execution_count": null,
   "id": "be2aab86",
   "metadata": {},
   "outputs": [],
   "source": [
    "import cv2\n",
    "\n",
    "# Read an image\n",
    "img = cv2.imread(\"your_image.jpg\")   # replace with your file path\n",
    "\n",
    "# Check if image loaded successfully\n",
    "if img is None:\n",
    "    print(\"Error: Could not read image.\")\n",
    "else:\n",
    "    # Show the image in a window\n",
    "    cv2.imshow(\"My Image\", img)\n",
    "\n",
    "    # Wait until a key is pressed, then close\n",
    "    cv2.waitKey(0)\n",
    "    cv2.destroyAllWindows()"
   ]
  },
  {
   "cell_type": "code",
   "execution_count": null,
   "id": "73e2e054",
   "metadata": {},
   "outputs": [],
   "source": [
    "import cv2\n",
    "\n",
    "# Read image\n",
    "img = cv2.imread(\"your_image.jpg\")\n",
    "\n",
    "if img is None:\n",
    "    print(\"Error: Could not read image.\")\n",
    "else:\n",
    "    # Flip vertically (0), horizontally (1), or both (-1)\n",
    "    flip_vertical = cv2.flip(img, 0)\n",
    "    flip_horizontal = cv2.flip(img, 1)\n",
    "    flip_both = cv2.flip(img, -1)\n",
    "\n",
    "    # Show results\n",
    "    cv2.imshow(\"Original\", img)\n",
    "    cv2.imshow(\"Flipped Vertically\", flip_vertical)\n",
    "    cv2.imshow(\"Flipped Horizontally\", flip_horizontal)\n",
    "    cv2.imshow(\"Flipped Both\", flip_both)\n",
    "\n",
    "    cv2.waitKey(0)\n",
    "    cv2.destroyAllWindows()"
   ]
  },
  {
   "cell_type": "code",
   "execution_count": null,
   "id": "51c42569",
   "metadata": {},
   "outputs": [],
   "source": [
    "import cv2\n",
    "\n",
    "# Load an image\n",
    "img = cv2.imread(\"your_image.jpg\")   # Replace with your file path\n",
    "\n",
    "# Check if the image loaded correctly\n",
    "if img is None:\n",
    "    print(\"Error: Could not read image.\")\n",
    "    exit()\n",
    "\n",
    "# Resize image (width=300, height=300)\n",
    "resized = cv2.resize(img, (300, 300))\n",
    "\n",
    "# Show both\n",
    "cv2.imshow(\"Original\", img)\n",
    "cv2.imshow(\"Resized\", resized)\n",
    "\n",
    "# Wait for a key press\n",
    "cv2.waitKey(0)\n",
    "cv2.destroyAllWindows()\n",
    "\n",
    "# Optional: Save the resized image\n",
    "cv2.imwrite(\"resized_output.jpg\", resized)"
   ]
  },
  {
   "cell_type": "code",
   "execution_count": null,
   "id": "f6da8d93",
   "metadata": {},
   "outputs": [],
   "source": [
    "\n",
    "import cv2\n",
    "\n",
    "# Load an image\n",
    "img = cv2.imread(\"your_image.jpg\")   # Replace with your file path\n",
    "\n",
    "# Check if image loaded correctly\n",
    "if img is None:\n",
    "    print(\"Error: Could not read image.\")\n",
    "    exit()\n",
    "\n",
    "# Convert to grayscale\n",
    "gray = cv2.cvtColor(img, cv2.COLOR_BGR2GRAY)\n",
    "\n",
    "# Show both\n",
    "cv2.imshow(\"Original\", img)\n",
    "cv2.imshow(\"Grayscale\", gray)\n",
    "\n",
    "# Wait until a key is pressed\n",
    "cv2.waitKey(0)\n",
    "cv2.destroyAllWindows()\n",
    "\n",
    "# Optional: Save grayscale image\n",
    "cv2.imwrite(\"grayscale_output.jpg\", gray)"
   ]
  },
  {
   "cell_type": "code",
   "execution_count": null,
   "id": "aa6512cc",
   "metadata": {},
   "outputs": [],
   "source": [
    "\n",
    "import cv2\n",
    "\n",
    "# Load an image\n",
    "img = cv2.imread(\"your_image.jpg\")   # Replace with your file path\n",
    "\n",
    "# Check if image loaded correctly\n",
    "if img is None:\n",
    "    print(\"Error: Could not read image.\")\n",
    "    exit()\n",
    "\n",
    "# Apply Gaussian Blur (15x15 kernel)\n",
    "blur = cv2.GaussianBlur(img, (15, 15), 0)\n",
    "\n",
    "# Show both\n",
    "cv2.imshow(\"Original\", img)\n",
    "cv2.imshow(\"Blurred\", blur)\n",
    "\n",
    "# Wait for key press\n",
    "cv2.waitKey(0)\n",
    "cv2.destroyAllWindows()\n",
    "\n",
    "# Optional: Save the blurred image\n",
    "cv2.imwrite(\"blurred_output.jpg\", blur)\n"
   ]
  }
 ],
 "metadata": {
  "kernelspec": {
   "display_name": "Python 3",
   "language": "python",
   "name": "python3"
  },
  "language_info": {
   "codemirror_mode": {
    "name": "ipython",
    "version": 3
   },
   "file_extension": ".py",
   "mimetype": "text/x-python",
   "name": "python",
   "nbconvert_exporter": "python",
   "pygments_lexer": "ipython3",
   "version": "3.13.5"
  }
 },
 "nbformat": 4,
 "nbformat_minor": 5
}
